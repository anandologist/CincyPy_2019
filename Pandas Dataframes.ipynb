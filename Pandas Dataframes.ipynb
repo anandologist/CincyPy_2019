{
 "cells": [
  {
   "cell_type": "markdown",
   "metadata": {},
   "source": [
    "# **CincyPy Discussion Group**\n",
    "#### Jul 2019\n",
    "\n"
   ]
  },
  {
   "cell_type": "code",
   "execution_count": null,
   "metadata": {},
   "outputs": [],
   "source": [
    "import numpy as np\n",
    "import pandas as pd\n",
    "\n",
    "import matplotlib as mpl\n",
    "import matplotlib.pyplot as plt\n",
    "\n",
    "from IPython.core.interactiveshell import InteractiveShell\n",
    "InteractiveShell.ast_node_interactivity = 'all'\n",
    "\n",
    "%matplotlib inline"
   ]
  },
  {
   "cell_type": "markdown",
   "metadata": {},
   "source": [
    "# 1. Definition of a dataframe"
   ]
  },
  {
   "cell_type": "code",
   "execution_count": null,
   "metadata": {},
   "outputs": [],
   "source": [
    "def colorTuple(color):\n",
    "    return(tuple(col/255 for col in color))\n",
    "\n",
    "fig, currAX = plt.subplots(figsize=(6,6))\n",
    "currAX.set_xlim([0,10])\n",
    "currAX.set_ylim([0,10])\n",
    "\n",
    "currAX.spines['top'].set_visible(False)\n",
    "currAX.spines['bottom'].set_visible(False)\n",
    "currAX.spines['left'].set_visible(False)\n",
    "currAX.spines['right'].set_visible(False)\n",
    "currAX.set_xticks([])\n",
    "currAX.set_yticks([])\n",
    "\n",
    "circle1 = plt.Circle((2, 6), radius=2, facecolor='g', alpha=0.3, edgecolor=colorTuple((32,32,32)), zorder=1)\n",
    "circle2 = plt.Circle((5, 6), radius=2, facecolor='darkgray', alpha=1, edgecolor=colorTuple((64,64,64)), zorder=-1)\n",
    "circle3 = plt.Circle((8, 6), radius=2, facecolor='b', alpha=0.3, edgecolor=colorTuple((32,32,32)), zorder=1)\n",
    "\n",
    "\n",
    "plt.annotate('Excel\\n sheet',xy=(2, 6),fontsize=12, ha='center', va='center')\n",
    "plt.annotate('DataFrame',xy=(5, 6),fontsize=12, ha='center', va='center')\n",
    "plt.annotate('Database\\ntable',xy=(8, 6),fontsize=12, ha='center', va='center')\n",
    "\n",
    "currAX.add_artist(circle1)\n",
    "currAX.add_artist(circle2)\n",
    "currAX.add_artist(circle3)\n",
    "\n",
    "plt.tight_layout()\n",
    "\n",
    "plt.show();"
   ]
  },
  {
   "cell_type": "code",
   "execution_count": null,
   "metadata": {},
   "outputs": [],
   "source": [
    "fig, currAX = plt.subplots(figsize=(8,8))\n",
    "\n",
    "currAX.set_xlim([0,10])\n",
    "currAX.set_ylim([0,10])\n",
    "\n",
    "currAX.spines['top'].set_visible(False)\n",
    "currAX.spines['bottom'].set_visible(False)\n",
    "currAX.spines['left'].set_visible(False)\n",
    "currAX.spines['right'].set_visible(False)\n",
    "currAX.set_xticks([])\n",
    "currAX.set_yticks([])\n",
    "\n",
    "innerLines = {'color':'darkgray', 'linestyles':'solid'}\n",
    "outerBorders = {'color':'black', 'linestyles':'--'}\n",
    "header = {}\n",
    "\n",
    "currAX.vlines(x=2, ymin=1, ymax=8, **outerBorders)\n",
    "currAX.vlines(x=9, ymin=1, ymax=8, **outerBorders)\n",
    "currAX.hlines(y=1, xmin=2, xmax=9, **outerBorders)\n",
    "currAX.hlines(y=8, xmin=2, xmax=9, **outerBorders)\n",
    "\n",
    "currAX.hlines(y=7, xmin=1, xmax=9, **innerLines)\n",
    "currAX.hlines(y=6, xmin=1, xmax=9, **innerLines)\n",
    "currAX.hlines(y=5, xmin=1, xmax=9, **innerLines)\n",
    "currAX.hlines(y=4, xmin=1, xmax=9, **innerLines)\n",
    "currAX.hlines(y=3, xmin=1, xmax=9, **innerLines)\n",
    "currAX.hlines(y=2, xmin=1, xmax=9, **innerLines)\n",
    "currAX.hlines(y=1, xmin=1, xmax=9, **innerLines)\n",
    "\n",
    "currAX.vlines(x=3, ymin=1, ymax=8, **innerLines)\n",
    "currAX.vlines(x=5, ymin=1, ymax=8, **innerLines)\n",
    "currAX.vlines(x=7, ymin=1, ymax=8, **innerLines)\n",
    "\n",
    "currAX.fill_between(np.arange(2,10,1), 7, 8, color=colorTuple((219, 238, 244)))\n",
    "\n",
    "plt.annotate('ID',xy=(1.5, 7.5),fontsize=12, fontweight='bold')\n",
    "plt.annotate('SSN',xy=(2.25, 7.5),fontsize=12, fontweight='bold')\n",
    "plt.annotate('Name',xy=(3.5, 7.5),fontsize=12, fontweight='bold')\n",
    "plt.annotate('Address',xy=(5.5, 7.5),fontsize=12, fontweight='bold')\n",
    "plt.annotate('Other\\nDetails',xy=(7.5, 7.25),fontsize=12, fontweight='bold')\n",
    "\n",
    "plt.suptitle(\"Structure of a Pandas DataFrame\", fontsize=18, fontweight='bold')\n",
    "\n",
    "plt.annotate('Columns\\n(axis=0)',fontsize=12, ha='center', va='center'\n",
    "                 ,xytext=(11,7.5), xy=(9,7.5)\n",
    "                 ,arrowprops={'arrowstyle': '-|>',\n",
    "                         'color':colorTuple((64,64,64)),\n",
    "                         'lw':1.5,\n",
    "                         'ls':'-', 'connectionstyle':\"angle3,angleA=0,angleB=-90\"}\n",
    "            )\n",
    "plt.annotate('Index\\n(axis=1)',fontsize=12, ha='center', va='center'\n",
    "                 ,xytext=(0.75,9), xy=(1.5,8)\n",
    "                 ,arrowprops={'arrowstyle': '-|>',\n",
    "                         'color':colorTuple((64,64,64)),\n",
    "                         'lw':1.5,\n",
    "                         'ls':'-', 'connectionstyle':\"angle3,angleA=0,angleB=-90\"}\n",
    "            )\n",
    "\n",
    "bbox_props = dict(boxstyle=\"Round,pad=0.3\", fc=\"white\", ec=\"None\", lw=1)\n",
    "currAX.text(5, 5, 'Cells', ha=\"center\", va=\"center\", fontsize=20, fontweight='bold', rotation=45, bbox=bbox_props)\n",
    "\n",
    "\n",
    "\n",
    "plt.show();"
   ]
  },
  {
   "cell_type": "markdown",
   "metadata": {},
   "source": [
    "# 2. Grounding activity"
   ]
  },
  {
   "cell_type": "code",
   "execution_count": null,
   "metadata": {},
   "outputs": [],
   "source": [
    "pd.__version__ # should be >= 0.23.4\n",
    "np.__version__ # should be >= 1.16.x"
   ]
  },
  {
   "cell_type": "markdown",
   "metadata": {},
   "source": [
    "# 3. Creating a dataframe"
   ]
  },
  {
   "cell_type": "markdown",
   "metadata": {},
   "source": [
    "### 3.1 Create an empty dataframe"
   ]
  },
  {
   "cell_type": "code",
   "execution_count": null,
   "metadata": {},
   "outputs": [],
   "source": [
    "data = pd.DataFrame(columns=['A', 'B', 'C'])\n",
    "data"
   ]
  },
  {
   "cell_type": "markdown",
   "metadata": {},
   "source": [
    "### 3.2 Create a dataframe with hard-coded data"
   ]
  },
  {
   "cell_type": "code",
   "execution_count": null,
   "metadata": {},
   "outputs": [],
   "source": [
    "data = pd.DataFrame({'ID':np.arange(1, 11, 1), 'A':[np.nan]*10})\n",
    "data"
   ]
  },
  {
   "cell_type": "markdown",
   "metadata": {},
   "source": [
    "### 3.3 Load from a data source (CSV in this case)\n",
    "\n",
    "Other options include (**See more:** https://pandas.pydata.org/pandas-docs/stable/reference/io.html)\n",
    "- clipboard\n",
    "- Excel\n",
    "- JSON\n",
    "- HTML\n",
    "- HDFStore\n",
    "- Parquet\n",
    "- SAS\n",
    "- SQL (tables, queries)\n",
    "\n",
    "Note: import from 'imports-85.data.csv'"
   ]
  },
  {
   "cell_type": "code",
   "execution_count": null,
   "metadata": {},
   "outputs": [],
   "source": [
    "data = pd.read_csv('Data/imports-85.data.csv')\n",
    "data.replace('?', np.nan, inplace=True)\n",
    "#data"
   ]
  },
  {
   "cell_type": "markdown",
   "metadata": {},
   "source": [
    "# 4 Explore structure and contents of the dataframe"
   ]
  },
  {
   "cell_type": "code",
   "execution_count": null,
   "metadata": {},
   "outputs": [],
   "source": [
    "#data.columns.values\n",
    "#data.dtypes#\n",
    "#desc = data.describe()\n",
    "#desc.columns.values\n",
    "data.info()"
   ]
  },
  {
   "cell_type": "markdown",
   "metadata": {},
   "source": [
    "# 5 Missing data"
   ]
  },
  {
   "cell_type": "markdown",
   "metadata": {},
   "source": [
    "### 5.1 Locating missing data"
   ]
  },
  {
   "cell_type": "code",
   "execution_count": null,
   "metadata": {},
   "outputs": [],
   "source": [
    "data.isnull().sum() # count by columns of null values\n",
    "data[data['num-of-doors'].isnull()]"
   ]
  },
  {
   "cell_type": "markdown",
   "metadata": {},
   "source": [
    "### 5.2 Filling the gaps"
   ]
  },
  {
   "cell_type": "code",
   "execution_count": null,
   "metadata": {},
   "outputs": [],
   "source": [
    "#data[data['num-of-doors'].isnull()]\n",
    "data2 = data.fillna({'num-of-doors':'UNKNOWN'})\n",
    "#data2.loc[[0, 27,63], ]\n",
    "\n",
    "data['normalized-losses'].describe()\n",
    "len(data['normalized-losses'])"
   ]
  },
  {
   "cell_type": "markdown",
   "metadata": {},
   "source": [
    "### 5.3 Removing missing data"
   ]
  },
  {
   "cell_type": "code",
   "execution_count": null,
   "metadata": {},
   "outputs": [],
   "source": [
    "data2 = data.dropna()\n",
    "data2.describe()\n",
    "\n",
    "data = data.dropna(subset=['bore'])"
   ]
  },
  {
   "cell_type": "markdown",
   "metadata": {},
   "source": [
    "# 6 Indexes"
   ]
  },
  {
   "cell_type": "code",
   "execution_count": null,
   "metadata": {},
   "outputs": [],
   "source": [
    "data.set_index(['fuel-type', 'make'], inplace=True)\n",
    "data\n",
    "\n",
    "data.reset_index() # restore to former glory"
   ]
  },
  {
   "cell_type": "markdown",
   "metadata": {},
   "source": [
    "# 7 Adding, modifying, deleting data"
   ]
  },
  {
   "cell_type": "markdown",
   "metadata": {},
   "source": [
    "### 7.1 Add new rows"
   ]
  },
  {
   "cell_type": "code",
   "execution_count": null,
   "metadata": {},
   "outputs": [],
   "source": [
    "row = pd.Series({'make':'Tesla'})\n",
    "data = data.append(row, ignore_index=True)\n",
    "data.tail(5)"
   ]
  },
  {
   "cell_type": "markdown",
   "metadata": {},
   "source": [
    "### 7.2 Add new columns"
   ]
  },
  {
   "cell_type": "code",
   "execution_count": null,
   "metadata": {},
   "outputs": [],
   "source": [
    "data['PRICE_ADJUSTMENT'] = np.random.rand(data.shape[0])\n",
    "data.columns.values"
   ]
  },
  {
   "cell_type": "markdown",
   "metadata": {},
   "source": [
    "### 7.3 Update a column"
   ]
  },
  {
   "cell_type": "code",
   "execution_count": null,
   "metadata": {},
   "outputs": [],
   "source": [
    "data.loc[data['make']=='mazda', ['make', 'price', 'PRICE_ADJUSTMENT']]\n",
    "data['price'] = data['price'].astype('float')\n",
    "\n",
    "data.loc[data['make']=='mazda', 'NEW_PRICE'] = data.loc[data['make']=='mazda','price']*\\\n",
    "                                                (1.0+data.loc[data['make']=='mazda','PRICE_ADJUSTMENT'])\n",
    "data.loc[data['make']=='mazda', ['make', 'price', 'PRICE_ADJUSTMENT', 'NEW_PRICE']]"
   ]
  },
  {
   "cell_type": "markdown",
   "metadata": {},
   "source": [
    "### 7.4 Update a row"
   ]
  },
  {
   "cell_type": "code",
   "execution_count": null,
   "metadata": {},
   "outputs": [],
   "source": [
    "row = pd.Series({'num-of-doors':2 })\n",
    "data.tail(3)\n",
    "\n",
    "data.loc[205] = row\n",
    "data.tail(3)"
   ]
  },
  {
   "cell_type": "markdown",
   "metadata": {},
   "source": [
    "### _apply()_ function"
   ]
  },
  {
   "cell_type": "code",
   "execution_count": null,
   "metadata": {},
   "outputs": [],
   "source": [
    "def volCalc(row):\n",
    "    return row['length']*row['width']*row['height']\n",
    "\n",
    "data['Volume'] = data.apply(volCalc, axis=1)\n",
    "\n",
    "data.loc[:, ['make', 'length', 'width', 'height', 'Volume']].head(5)"
   ]
  },
  {
   "cell_type": "markdown",
   "metadata": {},
   "source": [
    "### Delete rows"
   ]
  },
  {
   "cell_type": "code",
   "execution_count": null,
   "metadata": {},
   "outputs": [],
   "source": [
    "data.drop(labels=206, axis=0, inplace=True)\n",
    "\n",
    "data.tail(5)"
   ]
  },
  {
   "cell_type": "markdown",
   "metadata": {},
   "source": [
    "### Delete columns"
   ]
  },
  {
   "cell_type": "code",
   "execution_count": null,
   "metadata": {},
   "outputs": [],
   "source": [
    "data.drop(labels='symboling', axis=1, inplace=True)\n",
    "data.head(5)"
   ]
  },
  {
   "cell_type": "markdown",
   "metadata": {},
   "source": [
    "# 8 Slicing and Filtering"
   ]
  },
  {
   "cell_type": "markdown",
   "metadata": {},
   "source": [
    "### 8.1 Column list"
   ]
  },
  {
   "cell_type": "code",
   "execution_count": null,
   "metadata": {},
   "outputs": [],
   "source": [
    "data.loc[:, ['make', 'fuel-type', 'price']]"
   ]
  },
  {
   "cell_type": "markdown",
   "metadata": {},
   "source": [
    "### 8.2 Filters"
   ]
  },
  {
   "cell_type": "code",
   "execution_count": null,
   "metadata": {},
   "outputs": [],
   "source": [
    "\n",
    "#data.loc[data['make']=='mazda', ['make', 'fuel-type', 'price', 'NEW_PRICE']]\n",
    "data.loc[data['make'].isin(['mazda', 'Tesla']), ['make', 'fuel-type', 'price', 'NEW_PRICE']]\n",
    "\n",
    "carCondition = (data['make'].isin(['mazda', 'Tesla']))\n",
    "fuelTypeCondition = (data['fuel-type']=='diesel')\n",
    "data.loc[carCondition&fuelTypeCondition, ['make', 'fuel-type', 'price', 'NEW_PRICE']]"
   ]
  },
  {
   "cell_type": "markdown",
   "metadata": {},
   "source": [
    "### 8.3 Positional filters"
   ]
  },
  {
   "cell_type": "code",
   "execution_count": null,
   "metadata": {},
   "outputs": [],
   "source": [
    "data,loc[[23, 67, 32], ['make', 'fuel-type', 'price']]\n",
    "data.loc[23:25, ['make', 'fuel-type', 'price']]"
   ]
  },
  {
   "cell_type": "markdown",
   "metadata": {},
   "source": [
    "# 9 Aggregates and Summarization"
   ]
  },
  {
   "cell_type": "markdown",
   "metadata": {},
   "source": [
    "### 9.1 Unique values"
   ]
  },
  {
   "cell_type": "code",
   "execution_count": null,
   "metadata": {},
   "outputs": [],
   "source": [
    "# 9.1.1 One column\n",
    "data['make'].unique()\n",
    "data['make'].nunique()\n",
    "\n",
    "# 9.1.2 Multiple columns\n",
    "data.loc[:, ['make', 'fuel-type']].drop_duplicates()"
   ]
  },
  {
   "cell_type": "markdown",
   "metadata": {},
   "source": [
    "### 9.2 Counts, sums etc."
   ]
  },
  {
   "cell_type": "code",
   "execution_count": null,
   "metadata": {},
   "outputs": [],
   "source": [
    "data.loc[data['make'].isin(['mazda', 'Tesla']), ['make', 'fuel-type', 'price', 'NEW_PRICE']].count()\n",
    "\n",
    "data.loc[data['make'].isin(['mazda', 'Tesla']), ['make', 'fuel-type', 'price', 'NEW_PRICE']].\\\n",
    "    groupby(['make']).count()"
   ]
  },
  {
   "cell_type": "markdown",
   "metadata": {},
   "source": [
    "### 9.3 Multiple aggregates by column"
   ]
  },
  {
   "cell_type": "code",
   "execution_count": null,
   "metadata": {},
   "outputs": [],
   "source": [
    "data['price'] = data['price'].astype(float)\n",
    "\n",
    "data.loc[data['make'].isin(['mazda', 'Tesla']), ['make', 'fuel-type', 'price', 'NEW_PRICE']].\\\n",
    "        groupby(['make']).\\\n",
    "        agg({'fuel-type':'count', 'price':['min', 'median', np.std, 'max']})"
   ]
  },
  {
   "cell_type": "markdown",
   "metadata": {},
   "source": [
    "### 9.4 Pivot tables"
   ]
  },
  {
   "cell_type": "code",
   "execution_count": null,
   "metadata": {},
   "outputs": [],
   "source": [
    "data.loc[:, ['make', 'fuel-type', 'num-of-cylinders', 'curb-weight']].\\\n",
    "        pivot_table(index=['fuel-type', 'make'], values='curb-weight', columns='num-of-cylinders', aggfunc='count')"
   ]
  },
  {
   "cell_type": "markdown",
   "metadata": {},
   "source": [
    "# 10 Visualization\n",
    "\n",
    "#### kind =\n",
    "- 'line' : line plot (default)\n",
    "- 'bar' : vertical bar plot\n",
    "- 'barh' : horizontal bar plot\n",
    "- 'hist' : histogram\n",
    "- 'box' : boxplot\n",
    "- 'kde' : Kernel Density Estimation plot\n",
    "- 'density' : same as 'kde'\n",
    "- 'area' : area plot\n",
    "- 'pie' : pie plot\n",
    "- 'scatter' : scatter plot\n",
    "- 'hexbin' : hexbin plot\n",
    "\n",
    "**See more:** https://pandas.pydata.org/pandas-docs/stable/reference/api/pandas.DataFrame.plot.html"
   ]
  },
  {
   "cell_type": "code",
   "execution_count": null,
   "metadata": {},
   "outputs": [],
   "source": [
    "data.plot(kind='scatter',x='engine-size',y='curb-weight',color='red')  \n",
    "\n",
    "plt.show();"
   ]
  },
  {
   "cell_type": "code",
   "execution_count": null,
   "metadata": {},
   "outputs": [],
   "source": []
  }
 ],
 "metadata": {
  "kernelspec": {
   "display_name": "Python 3",
   "language": "python",
   "name": "python3"
  },
  "language_info": {
   "codemirror_mode": {
    "name": "ipython",
    "version": 3
   },
   "file_extension": ".py",
   "mimetype": "text/x-python",
   "name": "python",
   "nbconvert_exporter": "python",
   "pygments_lexer": "ipython3",
   "version": "3.7.3"
  }
 },
 "nbformat": 4,
 "nbformat_minor": 2
}
